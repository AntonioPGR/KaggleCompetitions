{
 "cells": [
  {
   "cell_type": "code",
   "execution_count": 85,
   "id": "10d6f2fa",
   "metadata": {},
   "outputs": [],
   "source": [
    "import pandas as pd\n",
    "from sklearn.preprocessing import OrdinalEncoder, MinMaxScaler  \n",
    "from sklearn.metrics import root_mean_squared_log_error\n",
    "from sklearn.linear_model import LinearRegression\n",
    "from xgboost import XGBRegressor\n",
    "from statsmodels.tsa.deterministic import DeterministicProcess, CalendarFourier\n",
    "import numpy as np"
   ]
  },
  {
   "cell_type": "code",
   "execution_count": 86,
   "id": "59f186b6",
   "metadata": {},
   "outputs": [],
   "source": [
    "Test = pd.read_csv(\"./data_predict/test.csv\", index_col=\"date\").drop(columns=[\"Unnamed: 0\", \"id\"])\n",
    "Train = pd.read_csv(\"./data_predict/train.csv\", index_col=\"date\").drop(columns=[\"Unnamed: 0\", \"transactions\"])"
   ]
  },
  {
   "cell_type": "code",
   "execution_count": 87,
   "id": "930cc72e",
   "metadata": {},
   "outputs": [],
   "source": [
    "# CATEGORICAL TO NUMBERS\n",
    "categorical_cols = ['family', 'type', 'city', 'state']\n",
    "for col in categorical_cols:\n",
    "  encoder = OrdinalEncoder()\n",
    "  Train[col] = encoder.fit_transform(Train[[col]])\n",
    "  Test[col] = encoder.transform(Test[[col]])"
   ]
  },
  {
   "cell_type": "code",
   "execution_count": 88,
   "id": "ec113e91",
   "metadata": {},
   "outputs": [],
   "source": [
    "# NORMALIZE\n",
    "numerical_cols = ['onpromotion', 'oil_price']\n",
    "for col in numerical_cols:\n",
    "  encoder = MinMaxScaler(feature_range=(0,1))\n",
    "  Train[col] = encoder.fit_transform(Train[[col]])\n",
    "  Test[col] = encoder.transform(Test[[col]])"
   ]
  },
  {
   "cell_type": "code",
   "execution_count": 89,
   "id": "e73e3d58",
   "metadata": {},
   "outputs": [],
   "source": [
    "# LINEAR\n",
    "Train = Train.reset_index()\n",
    "Train['date'] = pd.to_datetime(Train['date'])\n",
    "\n",
    "linearModelOrder = 10\n",
    "fourierFrequency = 'MS'\n",
    "fourierOrder = 10\n",
    "\n",
    "stores_family = sorted(Train[['store_nbr', 'family']].drop_duplicates().values.tolist())\n",
    "\n",
    "all_preds = []\n",
    "\n",
    "for store_nbr, family in stores_family:\n",
    "  store = Train[(Train['store_nbr'] == store_nbr) & (Train['family'] == family)].copy()\n",
    "\n",
    "  store = store.set_index('date').asfreq('D')\n",
    "  store[['sales', 'onpromotion']] = store[['sales', 'onpromotion']].fillna(0)\n",
    "\n",
    "  y = store['sales']\n",
    "  store = store.drop(columns=['sales'])\n",
    "\n",
    "  fourier = CalendarFourier(freq=fourierFrequency, order=fourierOrder)\n",
    "  dp = DeterministicProcess(\n",
    "    index=store.index,\n",
    "    order=linearModelOrder,\n",
    "    seasonal=True,\n",
    "    additional_terms=[fourier],\n",
    "  )\n",
    "  x = dp.in_sample()\n",
    "\n",
    "  linear_model = LinearRegression()\n",
    "  linear_model.fit(x, y)\n",
    "  y_pred = linear_model.predict(x)\n",
    "  y_pred = np.clip(y_pred, a_min=0, a_max=None)\n",
    "\n",
    "  df_pred = pd.DataFrame({\n",
    "    'date': store.index,\n",
    "    'store_nbr': store_nbr,\n",
    "    'family': family,\n",
    "    'y_pred_lin': y_pred\n",
    "  })\n",
    "  all_preds.append(df_pred)\n",
    "\n",
    "df_all_preds = pd.concat(all_preds, ignore_index=True)\n",
    "Train = Train.merge(df_all_preds, on=['date', 'store_nbr', 'family'], how='left')\n",
    "\n",
    "Train = Train.set_index(\"date\")\n",
    "Train.index = Train.index.date"
   ]
  },
  {
   "cell_type": "code",
   "execution_count": 90,
   "id": "e137f929",
   "metadata": {},
   "outputs": [],
   "source": [
    "# XGBRegressor\n",
    "y = Train['sales']\n",
    "y_lin = Train['y_pred_lin']\n",
    "\n",
    "x_tree = Train.drop(columns=['sales', 'y_pred_lin'])\n",
    "tree_model = XGBRegressor()\n",
    "tree_model.fit(x_tree, y - y_lin)\n",
    "\n",
    "y_pred_tree = tree_model.predict(x_tree)"
   ]
  },
  {
   "cell_type": "code",
   "execution_count": 91,
   "id": "a4559979",
   "metadata": {},
   "outputs": [
    {
     "data": {
      "text/plain": [
       "3.312776283829101"
      ]
     },
     "execution_count": 91,
     "metadata": {},
     "output_type": "execute_result"
    }
   ],
   "source": [
    "y_pred_tree = np.clip(y_pred_tree, a_min=0, a_max=None)\n",
    "root_mean_squared_log_error(y, y_pred_tree)"
   ]
  }
 ],
 "metadata": {
  "kernelspec": {
   "display_name": ".venv (3.12.3)",
   "language": "python",
   "name": "python3"
  },
  "language_info": {
   "codemirror_mode": {
    "name": "ipython",
    "version": 3
   },
   "file_extension": ".py",
   "mimetype": "text/x-python",
   "name": "python",
   "nbconvert_exporter": "python",
   "pygments_lexer": "ipython3",
   "version": "3.12.3"
  }
 },
 "nbformat": 4,
 "nbformat_minor": 5
}
