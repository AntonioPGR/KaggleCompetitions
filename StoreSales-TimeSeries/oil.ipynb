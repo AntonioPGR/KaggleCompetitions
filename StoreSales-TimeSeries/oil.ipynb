{
 "cells": [
  {
   "cell_type": "code",
   "execution_count": 7,
   "id": "13f46b4b",
   "metadata": {},
   "outputs": [],
   "source": [
    "import pandas as pd\n",
    "import matplotlib.pyplot as plt"
   ]
  },
  {
   "cell_type": "code",
   "execution_count": 8,
   "id": "f9ce3c40",
   "metadata": {},
   "outputs": [],
   "source": [
    "OilData = pd.read_csv(\"./data_raw/oil.csv\", index_col=\"date\")"
   ]
  },
  {
   "cell_type": "code",
   "execution_count": 9,
   "id": "9cbd3cbd",
   "metadata": {},
   "outputs": [],
   "source": [
    "OilData = OilData.rename(columns={\"dcoilwtico\": \"oil_price\"})\n",
    "\n",
    "OilData.index = pd.to_datetime(OilData.index).date\n",
    "OilData.sort_index()\n",
    "\n",
    "full_range = pd.date_range(start=OilData.index.min(), end=OilData.index.max(), freq='D')\n",
    "OilData = OilData.reindex(full_range)\n",
    "OilData.index = OilData.index.date\n",
    "\n",
    "OilData.loc[OilData.index[0], 'oil_price'] = OilData.loc[OilData.index[1], 'oil_price']\n",
    "OilData = OilData.interpolate(method='linear')\n",
    "\n",
    "OilData['oil_price'] = OilData['oil_price'].round(2)\n",
    "\n",
    "OilData.index.name = \"date\""
   ]
  },
  {
   "cell_type": "code",
   "execution_count": 10,
   "id": "8128f7c5",
   "metadata": {},
   "outputs": [],
   "source": [
    "OilData.to_csv(\"./data_aux/oil.csv\")"
   ]
  },
  {
   "cell_type": "code",
   "execution_count": 11,
   "id": "c31e4302",
   "metadata": {},
   "outputs": [
    {
     "data": {
      "application/vnd.microsoft.datawrangler.viewer.v0+json": {
       "columns": [
        {
         "name": "date",
         "rawType": "object",
         "type": "unknown"
        },
        {
         "name": "oil_price",
         "rawType": "float64",
         "type": "float"
        }
       ],
       "ref": "3863284d-1f9f-4682-bc74-94412fb301b0",
       "rows": [
        [
         "2013-01-01",
         "93.14"
        ],
        [
         "2013-01-02",
         "93.14"
        ],
        [
         "2013-01-03",
         "92.97"
        ],
        [
         "2013-01-04",
         "93.12"
        ],
        [
         "2013-01-05",
         "93.15"
        ],
        [
         "2013-01-06",
         "93.17"
        ],
        [
         "2013-01-07",
         "93.2"
        ],
        [
         "2013-01-08",
         "93.21"
        ],
        [
         "2013-01-09",
         "93.08"
        ],
        [
         "2013-01-10",
         "93.81"
        ],
        [
         "2013-01-11",
         "93.6"
        ],
        [
         "2013-01-12",
         "93.82"
        ],
        [
         "2013-01-13",
         "94.05"
        ],
        [
         "2013-01-14",
         "94.27"
        ],
        [
         "2013-01-15",
         "93.26"
        ],
        [
         "2013-01-16",
         "94.28"
        ],
        [
         "2013-01-17",
         "95.49"
        ],
        [
         "2013-01-18",
         "95.61"
        ],
        [
         "2013-01-19",
         "95.73"
        ],
        [
         "2013-01-20",
         "95.85"
        ],
        [
         "2013-01-21",
         "95.97"
        ],
        [
         "2013-01-22",
         "96.09"
        ],
        [
         "2013-01-23",
         "95.06"
        ],
        [
         "2013-01-24",
         "95.35"
        ],
        [
         "2013-01-25",
         "95.15"
        ],
        [
         "2013-01-26",
         "95.42"
        ],
        [
         "2013-01-27",
         "95.68"
        ],
        [
         "2013-01-28",
         "95.95"
        ],
        [
         "2013-01-29",
         "97.62"
        ],
        [
         "2013-01-30",
         "97.98"
        ],
        [
         "2013-01-31",
         "97.65"
        ],
        [
         "2013-02-01",
         "97.46"
        ],
        [
         "2013-02-02",
         "97.04"
        ],
        [
         "2013-02-03",
         "96.63"
        ],
        [
         "2013-02-04",
         "96.21"
        ],
        [
         "2013-02-05",
         "96.68"
        ],
        [
         "2013-02-06",
         "96.44"
        ],
        [
         "2013-02-07",
         "95.84"
        ],
        [
         "2013-02-08",
         "95.71"
        ],
        [
         "2013-02-09",
         "96.14"
        ],
        [
         "2013-02-10",
         "96.58"
        ],
        [
         "2013-02-11",
         "97.01"
        ],
        [
         "2013-02-12",
         "97.48"
        ],
        [
         "2013-02-13",
         "97.03"
        ],
        [
         "2013-02-14",
         "97.3"
        ],
        [
         "2013-02-15",
         "95.95"
        ],
        [
         "2013-02-16",
         "96.14"
        ],
        [
         "2013-02-17",
         "96.32"
        ],
        [
         "2013-02-18",
         "96.5"
        ],
        [
         "2013-02-19",
         "96.69"
        ]
       ],
       "shape": {
        "columns": 1,
        "rows": 1704
       }
      },
      "text/html": [
       "<div>\n",
       "<style scoped>\n",
       "    .dataframe tbody tr th:only-of-type {\n",
       "        vertical-align: middle;\n",
       "    }\n",
       "\n",
       "    .dataframe tbody tr th {\n",
       "        vertical-align: top;\n",
       "    }\n",
       "\n",
       "    .dataframe thead th {\n",
       "        text-align: right;\n",
       "    }\n",
       "</style>\n",
       "<table border=\"1\" class=\"dataframe\">\n",
       "  <thead>\n",
       "    <tr style=\"text-align: right;\">\n",
       "      <th></th>\n",
       "      <th>oil_price</th>\n",
       "    </tr>\n",
       "    <tr>\n",
       "      <th>date</th>\n",
       "      <th></th>\n",
       "    </tr>\n",
       "  </thead>\n",
       "  <tbody>\n",
       "    <tr>\n",
       "      <th>2013-01-01</th>\n",
       "      <td>93.14</td>\n",
       "    </tr>\n",
       "    <tr>\n",
       "      <th>2013-01-02</th>\n",
       "      <td>93.14</td>\n",
       "    </tr>\n",
       "    <tr>\n",
       "      <th>2013-01-03</th>\n",
       "      <td>92.97</td>\n",
       "    </tr>\n",
       "    <tr>\n",
       "      <th>2013-01-04</th>\n",
       "      <td>93.12</td>\n",
       "    </tr>\n",
       "    <tr>\n",
       "      <th>2013-01-05</th>\n",
       "      <td>93.15</td>\n",
       "    </tr>\n",
       "    <tr>\n",
       "      <th>...</th>\n",
       "      <td>...</td>\n",
       "    </tr>\n",
       "    <tr>\n",
       "      <th>2017-08-27</th>\n",
       "      <td>46.82</td>\n",
       "    </tr>\n",
       "    <tr>\n",
       "      <th>2017-08-28</th>\n",
       "      <td>46.40</td>\n",
       "    </tr>\n",
       "    <tr>\n",
       "      <th>2017-08-29</th>\n",
       "      <td>46.46</td>\n",
       "    </tr>\n",
       "    <tr>\n",
       "      <th>2017-08-30</th>\n",
       "      <td>45.96</td>\n",
       "    </tr>\n",
       "    <tr>\n",
       "      <th>2017-08-31</th>\n",
       "      <td>47.26</td>\n",
       "    </tr>\n",
       "  </tbody>\n",
       "</table>\n",
       "<p>1704 rows × 1 columns</p>\n",
       "</div>"
      ],
      "text/plain": [
       "            oil_price\n",
       "date                 \n",
       "2013-01-01      93.14\n",
       "2013-01-02      93.14\n",
       "2013-01-03      92.97\n",
       "2013-01-04      93.12\n",
       "2013-01-05      93.15\n",
       "...               ...\n",
       "2017-08-27      46.82\n",
       "2017-08-28      46.40\n",
       "2017-08-29      46.46\n",
       "2017-08-30      45.96\n",
       "2017-08-31      47.26\n",
       "\n",
       "[1704 rows x 1 columns]"
      ]
     },
     "execution_count": 11,
     "metadata": {},
     "output_type": "execute_result"
    }
   ],
   "source": [
    "OilData"
   ]
  },
  {
   "cell_type": "code",
   "execution_count": 12,
   "id": "4b874a8c",
   "metadata": {},
   "outputs": [
    {
     "ename": "KeyError",
     "evalue": "'price'",
     "output_type": "error",
     "traceback": [
      "\u001b[31m---------------------------------------------------------------------------\u001b[39m",
      "\u001b[31mKeyError\u001b[39m                                  Traceback (most recent call last)",
      "\u001b[36mFile \u001b[39m\u001b[32m~/Codes/KaggleCompetitions/StoreSales-TimeSeries/.venv/lib/python3.12/site-packages/pandas/core/indexes/base.py:3812\u001b[39m, in \u001b[36mIndex.get_loc\u001b[39m\u001b[34m(self, key)\u001b[39m\n\u001b[32m   3811\u001b[39m \u001b[38;5;28;01mtry\u001b[39;00m:\n\u001b[32m-> \u001b[39m\u001b[32m3812\u001b[39m     \u001b[38;5;28;01mreturn\u001b[39;00m \u001b[38;5;28;43mself\u001b[39;49m\u001b[43m.\u001b[49m\u001b[43m_engine\u001b[49m\u001b[43m.\u001b[49m\u001b[43mget_loc\u001b[49m\u001b[43m(\u001b[49m\u001b[43mcasted_key\u001b[49m\u001b[43m)\u001b[49m\n\u001b[32m   3813\u001b[39m \u001b[38;5;28;01mexcept\u001b[39;00m \u001b[38;5;167;01mKeyError\u001b[39;00m \u001b[38;5;28;01mas\u001b[39;00m err:\n",
      "\u001b[36mFile \u001b[39m\u001b[32mpandas/_libs/index.pyx:167\u001b[39m, in \u001b[36mpandas._libs.index.IndexEngine.get_loc\u001b[39m\u001b[34m()\u001b[39m\n",
      "\u001b[36mFile \u001b[39m\u001b[32mpandas/_libs/index.pyx:196\u001b[39m, in \u001b[36mpandas._libs.index.IndexEngine.get_loc\u001b[39m\u001b[34m()\u001b[39m\n",
      "\u001b[36mFile \u001b[39m\u001b[32mpandas/_libs/hashtable_class_helper.pxi:7088\u001b[39m, in \u001b[36mpandas._libs.hashtable.PyObjectHashTable.get_item\u001b[39m\u001b[34m()\u001b[39m\n",
      "\u001b[36mFile \u001b[39m\u001b[32mpandas/_libs/hashtable_class_helper.pxi:7096\u001b[39m, in \u001b[36mpandas._libs.hashtable.PyObjectHashTable.get_item\u001b[39m\u001b[34m()\u001b[39m\n",
      "\u001b[31mKeyError\u001b[39m: 'price'",
      "\nThe above exception was the direct cause of the following exception:\n",
      "\u001b[31mKeyError\u001b[39m                                  Traceback (most recent call last)",
      "\u001b[36mCell\u001b[39m\u001b[36m \u001b[39m\u001b[32mIn[12]\u001b[39m\u001b[32m, line 1\u001b[39m\n\u001b[32m----> \u001b[39m\u001b[32m1\u001b[39m \u001b[43mOilData\u001b[49m\u001b[43m[\u001b[49m\u001b[33;43m'\u001b[39;49m\u001b[33;43mprice\u001b[39;49m\u001b[33;43m'\u001b[39;49m\u001b[43m]\u001b[49m.plot(figsize=(\u001b[32m12\u001b[39m, \u001b[32m6\u001b[39m), title=\u001b[33m'\u001b[39m\u001b[33mOil Price Over Time\u001b[39m\u001b[33m'\u001b[39m)\n\u001b[32m      3\u001b[39m \u001b[38;5;66;03m# Label the axes\u001b[39;00m\n\u001b[32m      4\u001b[39m plt.xlabel(\u001b[33m'\u001b[39m\u001b[33mDate\u001b[39m\u001b[33m'\u001b[39m)\n",
      "\u001b[36mFile \u001b[39m\u001b[32m~/Codes/KaggleCompetitions/StoreSales-TimeSeries/.venv/lib/python3.12/site-packages/pandas/core/frame.py:4107\u001b[39m, in \u001b[36mDataFrame.__getitem__\u001b[39m\u001b[34m(self, key)\u001b[39m\n\u001b[32m   4105\u001b[39m \u001b[38;5;28;01mif\u001b[39;00m \u001b[38;5;28mself\u001b[39m.columns.nlevels > \u001b[32m1\u001b[39m:\n\u001b[32m   4106\u001b[39m     \u001b[38;5;28;01mreturn\u001b[39;00m \u001b[38;5;28mself\u001b[39m._getitem_multilevel(key)\n\u001b[32m-> \u001b[39m\u001b[32m4107\u001b[39m indexer = \u001b[38;5;28;43mself\u001b[39;49m\u001b[43m.\u001b[49m\u001b[43mcolumns\u001b[49m\u001b[43m.\u001b[49m\u001b[43mget_loc\u001b[49m\u001b[43m(\u001b[49m\u001b[43mkey\u001b[49m\u001b[43m)\u001b[49m\n\u001b[32m   4108\u001b[39m \u001b[38;5;28;01mif\u001b[39;00m is_integer(indexer):\n\u001b[32m   4109\u001b[39m     indexer = [indexer]\n",
      "\u001b[36mFile \u001b[39m\u001b[32m~/Codes/KaggleCompetitions/StoreSales-TimeSeries/.venv/lib/python3.12/site-packages/pandas/core/indexes/base.py:3819\u001b[39m, in \u001b[36mIndex.get_loc\u001b[39m\u001b[34m(self, key)\u001b[39m\n\u001b[32m   3814\u001b[39m     \u001b[38;5;28;01mif\u001b[39;00m \u001b[38;5;28misinstance\u001b[39m(casted_key, \u001b[38;5;28mslice\u001b[39m) \u001b[38;5;129;01mor\u001b[39;00m (\n\u001b[32m   3815\u001b[39m         \u001b[38;5;28misinstance\u001b[39m(casted_key, abc.Iterable)\n\u001b[32m   3816\u001b[39m         \u001b[38;5;129;01mand\u001b[39;00m \u001b[38;5;28many\u001b[39m(\u001b[38;5;28misinstance\u001b[39m(x, \u001b[38;5;28mslice\u001b[39m) \u001b[38;5;28;01mfor\u001b[39;00m x \u001b[38;5;129;01min\u001b[39;00m casted_key)\n\u001b[32m   3817\u001b[39m     ):\n\u001b[32m   3818\u001b[39m         \u001b[38;5;28;01mraise\u001b[39;00m InvalidIndexError(key)\n\u001b[32m-> \u001b[39m\u001b[32m3819\u001b[39m     \u001b[38;5;28;01mraise\u001b[39;00m \u001b[38;5;167;01mKeyError\u001b[39;00m(key) \u001b[38;5;28;01mfrom\u001b[39;00m\u001b[38;5;250m \u001b[39m\u001b[34;01merr\u001b[39;00m\n\u001b[32m   3820\u001b[39m \u001b[38;5;28;01mexcept\u001b[39;00m \u001b[38;5;167;01mTypeError\u001b[39;00m:\n\u001b[32m   3821\u001b[39m     \u001b[38;5;66;03m# If we have a listlike key, _check_indexing_error will raise\u001b[39;00m\n\u001b[32m   3822\u001b[39m     \u001b[38;5;66;03m#  InvalidIndexError. Otherwise we fall through and re-raise\u001b[39;00m\n\u001b[32m   3823\u001b[39m     \u001b[38;5;66;03m#  the TypeError.\u001b[39;00m\n\u001b[32m   3824\u001b[39m     \u001b[38;5;28mself\u001b[39m._check_indexing_error(key)\n",
      "\u001b[31mKeyError\u001b[39m: 'price'"
     ]
    }
   ],
   "source": [
    "OilData['price'].plot(figsize=(12, 6), title='Oil Price Over Time')\n",
    "\n",
    "# Label the axes\n",
    "plt.xlabel('Date')\n",
    "plt.ylabel('Price (USD)')\n",
    "plt.grid(True)\n",
    "plt.tight_layout()\n",
    "plt.show()"
   ]
  }
 ],
 "metadata": {
  "kernelspec": {
   "display_name": ".venv (3.12.3)",
   "language": "python",
   "name": "python3"
  },
  "language_info": {
   "codemirror_mode": {
    "name": "ipython",
    "version": 3
   },
   "file_extension": ".py",
   "mimetype": "text/x-python",
   "name": "python",
   "nbconvert_exporter": "python",
   "pygments_lexer": "ipython3",
   "version": "3.12.3"
  }
 },
 "nbformat": 4,
 "nbformat_minor": 5
}
