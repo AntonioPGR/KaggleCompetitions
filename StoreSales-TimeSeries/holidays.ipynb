{
 "cells": [
  {
   "cell_type": "code",
   "execution_count": 24,
   "id": "cc2e5d5a",
   "metadata": {},
   "outputs": [],
   "source": [
    "import pandas as pd"
   ]
  },
  {
   "cell_type": "code",
   "execution_count": 25,
   "id": "4d10fcd4",
   "metadata": {},
   "outputs": [],
   "source": [
    "Holidays = pd.read_csv(\"./data_raw/holidays_events.csv\")"
   ]
  },
  {
   "cell_type": "code",
   "execution_count": 26,
   "id": "eac5e1b3",
   "metadata": {},
   "outputs": [],
   "source": [
    "Holidays = Holidays[~Holidays['transferred']]\n",
    "Holidays.drop(columns=[\"description\", \"transferred\"], inplace=True)\n",
    "\n",
    "Holidays['type'] = Holidays['type'].replace(['Additional', 'Transfer'], 'Holiday')\n",
    "\n",
    "Holidays = Holidays[Holidays['type'] != 'Work Day']\n",
    "\n",
    "\n",
    "Holidays = Holidays[Holidays['date'] >= '2013-01-01']\n",
    "\n",
    "Holidays.set_index('date', inplace=True)"
   ]
  },
  {
   "cell_type": "code",
   "execution_count": 27,
   "id": "c5e07960",
   "metadata": {},
   "outputs": [],
   "source": [
    "Holidays.to_csv(\"./data_aux/holidays.csv\")"
   ]
  }
 ],
 "metadata": {
  "kernelspec": {
   "display_name": ".venv (3.12.3)",
   "language": "python",
   "name": "python3"
  },
  "language_info": {
   "codemirror_mode": {
    "name": "ipython",
    "version": 3
   },
   "file_extension": ".py",
   "mimetype": "text/x-python",
   "name": "python",
   "nbconvert_exporter": "python",
   "pygments_lexer": "ipython3",
   "version": "3.12.3"
  }
 },
 "nbformat": 4,
 "nbformat_minor": 5
}
