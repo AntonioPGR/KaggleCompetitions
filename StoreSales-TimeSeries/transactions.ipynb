{
 "cells": [
  {
   "cell_type": "code",
   "execution_count": 1,
   "id": "4639aaaf",
   "metadata": {},
   "outputs": [],
   "source": [
    "import pandas as pd"
   ]
  },
  {
   "cell_type": "code",
   "execution_count": 2,
   "id": "372092d4",
   "metadata": {},
   "outputs": [],
   "source": [
    "Transactions = pd.read_csv(\"./data_raw/transactions.csv\", index_col='date')"
   ]
  },
  {
   "cell_type": "code",
   "execution_count": 3,
   "id": "393cdf61",
   "metadata": {},
   "outputs": [],
   "source": [
    "Transactions.index = pd.to_datetime(Transactions.index)\n",
    "Transactions.sort_index()\n",
    "filled_stores = []\n",
    "\n",
    "for store in sorted(Transactions['store_nbr'].unique()):\n",
    "  StoreDF = Transactions[Transactions['store_nbr'] == store].copy()\n",
    "  \n",
    "  full_range = pd.date_range(start=Transactions.index.min(), end=Transactions.index.max(), freq='D')\n",
    "  StoreDF = StoreDF.reindex(full_range)\n",
    "  StoreDF.index = StoreDF.index.date\n",
    "  \n",
    "  StoreDF = StoreDF.reset_index()\n",
    "  StoreDF = StoreDF.rename(columns={'index': 'date'})\n",
    "  \n",
    "  StoreDF['store_nbr'] = StoreDF['store_nbr'].fillna(store)\n",
    "  StoreDF['transactions'] = StoreDF['transactions'].fillna(0)\n",
    "\n",
    "  filled_stores.append(StoreDF)\n",
    "\n",
    "Transactions_filled = pd.concat(filled_stores, ignore_index=True)\n",
    "Transactions_filled = Transactions_filled.set_index('date')\n",
    "Transactions_filled.index.name = 'date'"
   ]
  },
  {
   "cell_type": "code",
   "execution_count": 4,
   "id": "967dc75e",
   "metadata": {},
   "outputs": [],
   "source": [
    "Transactions_filled.to_csv(\"./data_aux/transactions.csv\")"
   ]
  }
 ],
 "metadata": {
  "kernelspec": {
   "display_name": ".venv (3.12.3)",
   "language": "python",
   "name": "python3"
  },
  "language_info": {
   "codemirror_mode": {
    "name": "ipython",
    "version": 3
   },
   "file_extension": ".py",
   "mimetype": "text/x-python",
   "name": "python",
   "nbconvert_exporter": "python",
   "pygments_lexer": "ipython3",
   "version": "3.12.3"
  }
 },
 "nbformat": 4,
 "nbformat_minor": 5
}
