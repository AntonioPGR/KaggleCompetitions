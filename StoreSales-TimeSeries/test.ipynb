{
 "cells": [
  {
   "cell_type": "code",
   "execution_count": 24,
   "id": "0a06f098",
   "metadata": {},
   "outputs": [],
   "source": [
    "import pandas as pd\n",
    "import numpy as np"
   ]
  },
  {
   "cell_type": "code",
   "execution_count": 25,
   "id": "603caaca",
   "metadata": {},
   "outputs": [],
   "source": [
    "# RAW\n",
    "Test = pd.read_csv(\"./data_raw/test.csv\")\n",
    "Stores = pd.read_csv(\"./data_raw/stores.csv\")\n",
    "\n",
    "# AUXILIAR\n",
    "Oil = pd.read_csv(\"./data_aux/oil.csv\")\n",
    "Holidays = pd.read_csv(\"./data_aux/holidays.csv\")\n",
    "Transactions = pd.read_csv(\"./data_aux/transactions.csv\")"
   ]
  },
  {
   "cell_type": "code",
   "execution_count": 26,
   "id": "2afbf75c",
   "metadata": {},
   "outputs": [],
   "source": [
    "# MERGE OIL\n",
    "Test = Test.merge(\n",
    "  Oil[['date', 'oil_price']],\n",
    "  on=['date']\n",
    ")"
   ]
  },
  {
   "cell_type": "code",
   "execution_count": 27,
   "id": "9ca95e80",
   "metadata": {},
   "outputs": [],
   "source": [
    "# STORE INFORMATIONS\n",
    "Test = Test.merge(\n",
    "  Stores[['store_nbr', 'city', 'state', 'type', 'cluster']],\n",
    "  on=['store_nbr']\n",
    ")"
   ]
  },
  {
   "cell_type": "code",
   "execution_count": 28,
   "id": "1b13e2e7",
   "metadata": {},
   "outputs": [],
   "source": [
    "# HOLIDAYS\n",
    "Test['is_holiday'] = False\n",
    "\n",
    "# National\n",
    "national = Holidays[Holidays['locale'] == 'National'].drop_duplicates(subset='date')\n",
    "Test['is_holiday'] = Test['date'].isin(national['date'])\n",
    "\n",
    "# Regional\n",
    "regional = Holidays[Holidays['locale'] == 'Regional'].rename(columns={'locale_name': 'state'})\n",
    "regional = regional.drop_duplicates(subset=['date', 'state'])\n",
    "regional['is_regional_holiday'] = True\n",
    "Test = Test.merge(regional[['date', 'state', 'is_regional_holiday']], on=['date', 'state'], how='left')\n",
    "Test['is_holiday'] |= Test['is_regional_holiday'].infer_objects(copy=False)\n",
    "Test.drop(columns=['is_regional_holiday'], inplace=True)\n",
    "\n",
    "# Local\n",
    "local = Holidays[Holidays['locale'] == 'Local'].rename(columns={'locale_name': 'city'})\n",
    "local = local.drop_duplicates(subset=['date', 'city'])\n",
    "local['is_local_holiday'] = True\n",
    "Test = Test.merge(local[['date', 'city', 'is_local_holiday']], on=['date', 'city'], how='left')\n",
    "Test['is_holiday'] |= Test['is_local_holiday'].infer_objects(copy=False)\n",
    "Test.drop(columns=['is_local_holiday'], inplace=True)"
   ]
  },
  {
   "cell_type": "code",
   "execution_count": 29,
   "id": "c40d0acd",
   "metadata": {},
   "outputs": [],
   "source": [
    "# DAYS SINCE PAYDAY\n",
    "Test['date'] = pd.to_datetime(Test['date'])\n",
    "\n",
    "paydays = pd.date_range(start='2012-12-31', end=Test['date'].max(), freq='MS') \n",
    "\n",
    "paydays = pd.Series(paydays).drop_duplicates().sort_values().reset_index(drop=True)\n",
    "\n",
    "def days_since_last_payday(date):\n",
    "  prev_paydays = paydays[paydays <= date]\n",
    "  if not prev_paydays.empty: return (date - prev_paydays.iloc[-1]).days\n",
    "  else: return np.nan\n",
    "\n",
    "Test['days_since_payday'] = Test['date'].apply(days_since_last_payday)"
   ]
  },
  {
   "cell_type": "code",
   "execution_count": null,
   "id": "26ba699b",
   "metadata": {},
   "outputs": [],
   "source": [
    "# DAY INFO\n",
    "Test['date'] = pd.to_datetime(Test['date'])\n",
    "Test['day_of_week'] = Test['date'].dt.dayofweek \n",
    "Test['is_weekend'] = Test['day_of_week'].isin([5, 6])\n",
    "Test['date'] = pd.to_datetime(Test['date']).dt.date"
   ]
  },
  {
   "cell_type": "code",
   "execution_count": 32,
   "id": "42ddbc97",
   "metadata": {},
   "outputs": [],
   "source": [
    "Test.to_csv(\"./data_predict/test.csv\")"
   ]
  }
 ],
 "metadata": {
  "kernelspec": {
   "display_name": ".venv (3.12.3)",
   "language": "python",
   "name": "python3"
  },
  "language_info": {
   "codemirror_mode": {
    "name": "ipython",
    "version": 3
   },
   "file_extension": ".py",
   "mimetype": "text/x-python",
   "name": "python",
   "nbconvert_exporter": "python",
   "pygments_lexer": "ipython3",
   "version": "3.12.3"
  }
 },
 "nbformat": 4,
 "nbformat_minor": 5
}
